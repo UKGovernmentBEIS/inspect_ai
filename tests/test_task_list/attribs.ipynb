{
 "cells": [
  {
   "cell_type": "code",
   "execution_count": null,
   "metadata": {},
   "outputs": [],
   "source": [
    "from inspect_ai import Task, task\n",
    "\n",
    "\n",
    "@task(light=True, type=\"bio\")\n",
    "def attribs():\n",
    "    return Task([])\n"
   ]
  }
 ],
 "metadata": {
  "language_info": {
   "name": "python"
  }
 },
 "nbformat": 4,
 "nbformat_minor": 2
}
